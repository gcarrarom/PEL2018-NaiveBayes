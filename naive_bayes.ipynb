{
 "metadata": {
  "language_info": {
   "codemirror_mode": {
    "name": "ipython",
    "version": 3
   },
   "file_extension": ".py",
   "mimetype": "text/x-python",
   "name": "python",
   "nbconvert_exporter": "python",
   "pygments_lexer": "ipython3",
   "version": "3.8.6-final"
  },
  "orig_nbformat": 2,
  "kernelspec": {
   "name": "python3",
   "display_name": "Python 3.8.6 64-bit",
   "metadata": {
    "interpreter": {
     "hash": "476153e55000c35de56ef350a9057037a1539011805ea82016ba1946b67534df"
    }
   }
  }
 },
 "nbformat": 4,
 "nbformat_minor": 2,
 "cells": [
  {
   "source": [
    "# Naïve Bayes\n",
    "In this proposed exercise, the topic of study is Naïve Bayes.\n",
    "\n",
    "To implement its predictions - and simplify the usage of the created codebase - a class `Bayes` is implemented on the same folder as this notebook. The file containing the Naïve Bayes class is the [bayes.py](./bayes.py) file. It contains a class with the following exposed methods: train and predict."
   ],
   "cell_type": "markdown",
   "metadata": {}
  },
  {
   "cell_type": "code",
   "execution_count": 105,
   "metadata": {},
   "outputs": [],
   "source": [
    "from bayes import Bayes\n",
    "bayes = Bayes()\n",
    "bayes.train(['Eu gosto de batata'.lower().split(' '), 'Eu não gosto de batata'.lower().split(' ')], [\"Positivo\", 'Negativo'])"
   ]
  },
  {
   "source": [
    "Now with the trained model, we can make predictions based on the possible values given in the training model. Here's a prediction example:"
   ],
   "cell_type": "markdown",
   "metadata": {}
  },
  {
   "cell_type": "code",
   "execution_count": 106,
   "metadata": {},
   "outputs": [
    {
     "output_type": "stream",
     "name": "stdout",
     "text": [
      "O texto 'Eu não gosto' é: Negativo\nO texto 'Eu gosto' é: Positivo\nO texto 'batata' é: Positivo\nO texto 'não' é: Negativo\n"
     ]
    }
   ],
   "source": [
    "print(f\"O texto 'Eu não gosto' é: {bayes.predict('Eu não gosto'.lower().split(' '))}\")\n",
    "print(f\"O texto 'Eu gosto' é: {bayes.predict('Eu  gosto'.lower().split(' '))}\")\n",
    "print(f\"O texto 'batata' é: {bayes.predict('Batata'.lower().split(' '))}\")\n",
    "print(f\"O texto 'não' é: {bayes.predict('não'.lower().split(' '))}\")"
   ]
  },
  {
   "source": [
    "Looking at this small sample we can already predict that the influence of the negative word \"não\" is already pulling the probability to the negative class. The interesting part here is that the probability of both is the same whenever the negative word is not present. Let's try with the whole positive sentence"
   ],
   "cell_type": "markdown",
   "metadata": {}
  },
  {
   "cell_type": "code",
   "execution_count": 108,
   "metadata": {},
   "outputs": [
    {
     "output_type": "stream",
     "name": "stdout",
     "text": [
      "['Likelyhood Positivo: -6.016309587105097', 'Likelyhood Negativo: -6.437751649736401']\n['Likelyhood Positivo: -6.016309587105097', 'Likelyhood Negativo: -6.437751649736401']\n"
     ]
    },
    {
     "output_type": "execute_result",
     "data": {
      "text/plain": [
       "'Positivo'"
      ]
     },
     "metadata": {},
     "execution_count": 108
    }
   ],
   "source": [
    "bayes.predict('Eu gosto de batata'.lower().split(' '), print_probabilities=True)\n",
    "bayes.predict('de batata eu gosto'.lower().split(' '), print_probabilities=True)"
   ]
  },
  {
   "source": [
    "As we can see, we could predict that the text that has the word 'não' is negative, without the entire sentence.\n",
    "\n",
    "This now can be used in the case of an already treated dataset that gives the variables and the classes. In the case of the exercise, we still need to process the incoming text for the Bayes class to be able to train based uppon it.\n",
    "\n",
    "For the base to be trained, I will use the database of brazilian poems in this website: \n",
    "http://www.blocosonline.com.br/literatura/poesia/pn/pn000000.htm\n",
    "\n",
    "The objective is to classify the poem in an author.\n",
    "\n",
    "First to extract the poems, we need to crawl on all letters for the athors' names.\n",
    "\n"
   ],
   "cell_type": "markdown",
   "metadata": {}
  },
  {
   "cell_type": "code",
   "execution_count": 180,
   "metadata": {},
   "outputs": [
    {
     "output_type": "execute_result",
     "data": {
      "text/plain": [
       "['te',\n",
       " 'deixei',\n",
       " 'voar',\n",
       " 'tão',\n",
       " 'alto',\n",
       " 'tão',\n",
       " 'longe',\n",
       " 'tão',\n",
       " 'bela',\n",
       " 'e',\n",
       " 'tão',\n",
       " 'livre',\n",
       " 'que',\n",
       " 'te',\n",
       " 'tornastes',\n",
       " 'o',\n",
       " 'horizonte',\n",
       " 'inalcançável',\n",
       " 'hoje',\n",
       " 'sigo',\n",
       " 'sem',\n",
       " 'asas',\n",
       " 'em',\n",
       " 'busca',\n",
       " 'de',\n",
       " 'um',\n",
       " 'limite',\n",
       " 'inexistente',\n",
       " 'te',\n",
       " 'deixo',\n",
       " 'te',\n",
       " 'perco',\n",
       " 'me',\n",
       " 'esqueço',\n",
       " 'pra',\n",
       " 'sempre',\n",
       " 'enfim',\n",
       " 'teu',\n",
       " 'espírito',\n",
       " 'voa',\n",
       " 'livre',\n",
       " 'por',\n",
       " 'sobre',\n",
       " 'os',\n",
       " 'campos',\n",
       " 'de',\n",
       " 'sonhos',\n",
       " 'que',\n",
       " 'deixei',\n",
       " 'e',\n",
       " 'que',\n",
       " 'um',\n",
       " 'dia',\n",
       " 'semeei',\n",
       " 'pra',\n",
       " 'mim']"
      ]
     },
     "metadata": {},
     "execution_count": 180
    }
   ],
   "source": [
    "def tokenize(page):\n",
    "    text = \" \".join([unescape(line) for line in re.findall(r'(?:<p>|<br>|<P>|<BR>)(.*?)(?:\\n)', page) if not line.endswith('>') and not line.endswith('&nbsp;')])\n",
    "    return extract_words(text)\n",
    "\n",
    "def extract_words(text):\n",
    "    text = re.sub(r'[!\\.,\\-?\\\\/0-9:|()]', ' ', text)\n",
    "    text = re.sub(r'\\x97', '', text)\n",
    "    text = re.sub(r'\\x93', '', text)\n",
    "    text = re.sub(r'\\x94', '', text)\n",
    "    text = re.sub(r'\\xa0', '', text)\n",
    "    text = re.sub(r'<br>', '', text)\n",
    "    text = re.sub(r'[dD]o [Ll]ivro.*', '', text)\n",
    "    text = re.sub(r' +', ' ', text)\n",
    "    return text.strip().lower().split(' ')\n",
    "\n",
    "tokenize(\"\"\"\n",
    "html>\n",
    "<head>\n",
    "   <meta http-equiv=\"Content-Type\" content=\"text/html; charset=iso-8859-1\">\n",
    "   <meta name=\"GENERATOR\" content=\"Mozilla/4.51 [pt] (Win98; I) [Netscape]\">\n",
    "   <meta name=\"Author\" content=\"Blocos\">\n",
    "   <meta name=\"KeyWords\" content=\"Blocos, MPB, A., Alexandre, Ramôa, Ramoa, poesias, cultura, literatura, poetas, brasileiros, brasileiras, autores, nacionais, Brasil,\">\n",
    "   <title>&Uacute;ltimos versos - A. Ram&ocirc;a</title>\n",
    "<link href=\"../../../estilos.css\" rel=\"stylesheet\" type=\"text/css\"><SCRIPT LANGUAGE=\"JavaScript\" src=\"../../../menu.js\"></script>\n",
    "</head>\n",
    "<body onload=\"goSetHeight()\"  class=\"texto-conteudo\" bgcolor=\"#FFFFFF\" link=\"#000066\" vlink=\"#551A8B\" alink=\"#FF0000\"  nosave>\n",
    "\n",
    "<ul><b>&Uacute;ltimos Versos</b>\n",
    "<p>Te deixei voar t&atilde;o alto\n",
    "<br>T&atilde;o longe\n",
    "<br>T&atilde;o bela e t&atilde;o livre\n",
    "<br>Que te tornastes o horizonte\n",
    "<br>Inalcan&ccedil;&aacute;vel\n",
    "<p>Hoje, sigo sem asas\n",
    "<br>Em busca de um limite\n",
    "<br>(Inexistente)\n",
    "<p>Te deixo\n",
    "<br>Te perco\n",
    "<br>Me esque&ccedil;o\n",
    "<br>Pra sempre\n",
    "<p>Enfim, teu esp&iacute;rito voa livre\n",
    "<br>Por sobre os campos de sonhos\n",
    "<br>Que deixei\n",
    "<br>E que um dia semeei pra mim...\n",
    "<p>&nbsp;&nbsp;&nbsp;&nbsp;&nbsp;&nbsp;&nbsp;&nbsp;&nbsp;&nbsp;&nbsp;&nbsp;&nbsp;&nbsp;&nbsp;&nbsp;&nbsp;&nbsp;&nbsp;&nbsp;&nbsp;&nbsp;&nbsp;&nbsp;&nbsp;&nbsp;&nbsp;&nbsp;&nbsp;&nbsp;&nbsp;&nbsp;&nbsp;&nbsp;&nbsp;&nbsp;&nbsp;&nbsp;&nbsp;&nbsp;&nbsp;&nbsp;&nbsp;&nbsp;&nbsp;&nbsp;&nbsp;&nbsp;<b>&nbsp;\n",
    "A. Ram&ocirc;a</b>\n",
    "<br><a class=\"navegacao4\"  href=\"../pn03/pn001608.htm\"></a></ul>\n",
    "\n",
    "<p align=\"right\"><a href=\"../../poesia_origens.php\" class=\"navegacao2\" onFocus=\"if(this.blur)this.blur()\">&laquo; \n",
    "  Voltar</a></p>\n",
    "\n",
    "</BODY>\n",
    "</html>\n",
    "\n",
    "\n",
    "\"\"\")"
   ]
  },
  {
   "cell_type": "code",
   "execution_count": 164,
   "metadata": {
    "tags": [
     "outputPrepend"
    ]
   },
   "outputs": [
    {
     "output_type": "stream",
     "name": "stdout",
     "text": [
      "5.htm\n",
      "http://www.blocosonline.com.br/literatura/poesia/pf/pf000003a.htm\n",
      "http://www.blocosonline.com.br/literatura/poesia/pf/pn000837.htm\n",
      "http://www.blocosonline.com.br/literatura/poesia/pn03/pn001594.htm\n",
      "http://www.blocosonline.com.br/literatura/poesia/p03/p030511.htm\n",
      "http://www.blocosonline.com.br/literatura/poesia/p03/p030512.htm\n",
      "http://www.blocosonline.com.br/literatura/poesia/p03/p030513.htm\n",
      "http://www.blocosonline.com.br/literatura/poesia/p03/p030514.htm\n",
      "http://www.blocosonline.com.br/literatura/poesia/p03/p030515.htm\n",
      "http://www.blocosonline.com.br/literatura/poesia/p03/p030516.htm\n",
      "http://www.blocosonline.com.br/literatura/poesia/p03/p030517.htm\n",
      "http://www.blocosonline.com.br/literatura/poesia/pn03/pn000403.htm\n",
      "http://www.blocosonline.com.br/literatura/poesia/pn03/pn000348.htm\n",
      "http://www.blocosonline.com.br/literatura/poesia/pn03/pn001319.htm\n",
      "http://www.blocosonline.com.br/literatura/poesia/pn03/pn001126.htm\n",
      "http://www.blocosonline.com.br/literatura/poesia/pn03/pn000553.htm\n",
      "http://www.blocosonline.com.br/literatura/poesia/pn03/pn001035.htm\n",
      "http://www.blocosonline.com.br/literatura/poesia/pn03/pn001071.htm\n",
      "http://www.blocosonline.com.br/literatura/poesia/pn03/pn001265.htm\n",
      "http://www.blocosonline.com.br/literatura/poesia/pn03/pn000000.htm\n",
      "http://www.blocosonline.com.br/literatura/poesia/pn03/pn00000u.htm\n",
      "http://www.blocosonline.com.br/literatura/poesia/pn/pn000470.htm\n",
      "http://www.blocosonline.com.br/literatura/poesia/p98/p981338.htm\n",
      "http://www.blocosonline.com.br/literatura/poesia/pn02/pn001557.htm\n",
      "http://www.blocosonline.com.br/literatura/poesia/p02/p021210.htm\n",
      "http://www.blocosonline.com.br/literatura/poesia/p02/p021211.htm\n",
      "http://www.blocosonline.com.br/literatura/poesia/p02/p021212.htm\n",
      "http://www.blocosonline.com.br/literatura/poesia/p02/p021213.htm\n",
      "http://www.blocosonline.com.br/literatura/poesia/p02/p021214.htm\n",
      "http://www.blocosonline.com.br/literatura/poesia/p02/p021219.htm\n",
      "http://www.blocosonline.com.br/literatura/poesia/p02/p021220.htm\n",
      "http://www.blocosonline.com.br/literatura/poesia/pn02/pn000128.htm\n",
      "http://www.blocosonline.com.br/literatura/poesia/pn04/pn001671.htm\n",
      "http://www.blocosonline.com.br/literatura/poesia/p04/p040203.htm\n",
      "http://www.blocosonline.com.br/literatura/poesia/p04/p040204.htm\n",
      "http://www.blocosonline.com.br/literatura/poesia/p04/p040205.htm\n",
      "http://www.blocosonline.com.br/literatura/poesia/p04/p040206.htm\n",
      "http://www.blocosonline.com.br/literatura/poesia/pn02/pn001471.htm\n",
      "http://www.blocosonline.com.br/literatura/poesia/p02/p020102.htm\n",
      "http://www.blocosonline.com.br/literatura/poesia/pn02/pn000002.htm\n",
      "http://www.blocosonline.com.br/literatura/poesia/pn02/pn001212.htm\n",
      "http://www.blocosonline.com.br/literatura/poesia/pn02/pn000000.htm\n",
      "http://www.blocosonline.com.br/literatura/poesia/pn02/pn00000v.htm\n",
      "http://www.blocosonline.com.br/literatura/poesia/pn02/pn001554.htm\n",
      "http://www.blocosonline.com.br/literatura/poesia/p02/p021201.htm\n",
      "http://www.blocosonline.com.br/literatura/poesia/pn04/pn001682.htm\n",
      "http://www.blocosonline.com.br/literatura/poesia/p04/p040230.htm\n",
      "http://www.blocosonline.com.br/literatura/poesia/p04/p040231.htm\n",
      "http://www.blocosonline.com.br/literatura/poesia/p04/p040232.htm\n",
      "http://www.blocosonline.com.br/literatura/poesia/pn02/pn001477.htm\n",
      "http://www.blocosonline.com.br/literatura/poesia/p02/p020148.htm\n",
      "http://www.blocosonline.com.br/literatura/poesia/p02/p020149.htm\n",
      "http://www.blocosonline.com.br/literatura/poesia/p02/p020150.htm\n",
      "http://www.blocosonline.com.br/literatura/poesia/p02/p020151.htm\n",
      "http://www.blocosonline.com.br/literatura/poesia/p02/p020152.htm\n",
      "http://www.blocosonline.com.br/literatura/poesia/p02/p020153.htm\n",
      "http://www.blocosonline.com.br/literatura/poesia/p02/p020154.htm\n",
      "http://www.blocosonline.com.br/literatura/poesia/pn02/pn001282.htm\n",
      "http://www.blocosonline.com.br/literatura/poesia/pn02/pn000706.htm\n",
      "http://www.blocosonline.com.br/literatura/poesia/pn02/pn000322.htm\n",
      "http://www.blocosonline.com.br/literatura/poesia/pn02/pn001497.htm\n",
      "http://www.blocosonline.com.br/literatura/poesia/p02/p020442.htm\n",
      "http://www.blocosonline.com.br/literatura/poesia/p02/p020443.htm\n",
      "http://www.blocosonline.com.br/literatura/poesia/p02/p020444.htm\n",
      "http://www.blocosonline.com.br/literatura/poesia/p02/p020506.htm\n",
      "http://www.blocosonline.com.br/literatura/poesia/p02/p020507.htm\n",
      "http://www.blocosonline.com.br/literatura/poesia/p02/p020508.htm\n",
      "http://www.blocosonline.com.br/literatura/poesia/p02/p020509.htm\n",
      "http://www.blocosonline.com.br/literatura/poesia/p02/p021109.htm\n",
      "http://www.blocosonline.com.br/literatura/poesia/pn02/pn000573.htm\n",
      "http://www.blocosonline.com.br/literatura/poesia/pn01/pn001421.htm\n",
      "http://www.blocosonline.com.br/literatura/poesia/p01/p010485.htm\n",
      "http://www.blocosonline.com.br/literatura/poesia/p01/p010486.htm\n",
      "http://www.blocosonline.com.br/literatura/poesia/p01/p010487.htm\n",
      "http://www.blocosonline.com.br/literatura/poesia/pn01/pn000460.htm\n",
      "http://www.blocosonline.com.br/literatura/poesia/pn03/pn001642.htm\n",
      "http://www.blocosonline.com.br/literatura/poesia/p03/p031006.htm\n",
      "http://www.blocosonline.com.br/literatura/poesia/p03/p031007.htm\n",
      "http://www.blocosonline.com.br/literatura/poesia/p03/p031008.htm\n",
      "http://www.blocosonline.com.br/literatura/poesia/p03/p031009.htm\n",
      "http://www.blocosonline.com.br/literatura/poesia/p03/p031010.htm\n",
      "http://www.blocosonline.com.br/literatura/poesia/p03/p031011.htm\n",
      "http://www.blocosonline.com.br/literatura/poesia/p03/p031012.htm\n",
      "http://www.blocosonline.com.br/literatura/poesia/pn03/pn000321.htm\n",
      "http://www.blocosonline.com.br/literatura/poesia/pn03/pn000548.htm\n",
      "http://www.blocosonline.com.br/literatura/poesia/pn03/pn000892.htm\n",
      "http://www.blocosonline.com.br/literatura/poesia/pn02/pn001550.htm\n",
      "http://www.blocosonline.com.br/literatura/poesia/p02/p021121.htm\n",
      "http://www.blocosonline.com.br/literatura/poesia/p02/p021122.htm\n",
      "http://www.blocosonline.com.br/literatura/poesia/p02/p021123.htm\n",
      "http://www.blocosonline.com.br/literatura/poesia/p02/p021124.htm\n",
      "http://www.blocosonline.com.br/literatura/poesia/p02/p021125.htm\n",
      "http://www.blocosonline.com.br/literatura/poesia/p02/p021126.htm\n",
      "http://www.blocosonline.com.br/literatura/poesia/p02/p021128.htm\n",
      "http://www.blocosonline.com.br/literatura/poesia/pn02/pn000038.htm\n",
      "http://www.blocosonline.com.br/literatura/poesia/pn02/pn000173.htm\n",
      "http://www.blocosonline.com.br/literatura/poesia/pn02/pn001119.htm\n",
      "http://www.blocosonline.com.br/literatura/poesia/pn02/pn000586.htm\n",
      "http://www.blocosonline.com.br/literatura/poesia/pn02/pn001237.htm\n",
      "http://www.blocosonline.com.br/literatura/poesia/pn02/pn001323.htm\n",
      "http://www.blocosonline.com.br/literatura/poesia/pn02/pn001397.htm\n",
      "http://www.blocosonline.com.br/literatura/poesia/pn02/pn000545.htm\n",
      "http://www.blocosonline.com.br/literatura/poesia/pn02/pn000622.htm\n",
      "http://www.blocosonline.com.br/literatura/poesia/pn02/pn000637.htm\n",
      "http://www.blocosonline.com.br/literatura/poesia/pn02/pn000004.htm\n",
      "http://www.blocosonline.com.br/literatura/poesia/pn03/pn001599.htm\n",
      "http://www.blocosonline.com.br/literatura/poesia/p03/p030538.htm\n",
      "http://www.blocosonline.com.br/literatura/poesia/p03/p030539.htm\n",
      "http://www.blocosonline.com.br/literatura/poesia/p03/p030540.htm\n",
      "http://www.blocosonline.com.br/literatura/poesia/p03/p030541.htm\n",
      "http://www.blocosonline.com.br/literatura/poesia/p03/p030542.htm\n",
      "http://www.blocosonline.com.br/literatura/poesia/p03/p030605.htm\n",
      "http://www.blocosonline.com.br/literatura/poesia/p03/p030938.htm\n",
      "http://www.blocosonline.com.br/literatura/poesia/pn03/pn001022.htm\n",
      "http://www.blocosonline.com.br/literatura/poesia/pn03/pn001033.htm\n",
      "http://www.blocosonline.com.br/literatura/poesia/pn03/pn001032.htm\n",
      "http://www.blocosonline.com.br/literatura/poesia/pn03/pn001331.htm\n",
      "http://www.blocosonline.com.br/literatura/poesia/pn03/pn000307.htm\n",
      "http://www.blocosonline.com.br/literatura/poesia/pn03/pn001217.htm\n",
      "http://www.blocosonline.com.br/literatura/poesia/pn03/pn001391.htm\n",
      "http://www.blocosonline.com.br/literatura/poesia/pn03/pn001630.htm\n",
      "http://www.blocosonline.com.br/literatura/poesia/p03/p030841.htm\n",
      "http://www.blocosonline.com.br/literatura/poesia/pn03/pn001161.htm\n",
      "http://www.blocosonline.com.br/literatura/poesia/pn03/pn000255.htm\n",
      "http://www.blocosonline.com.br/literatura/poesia/pn03/pn000546.htm\n",
      "http://www.blocosonline.com.br/literatura/poesia/pn03/pn001363.htm\n",
      "http://www.blocosonline.com.br/literatura/poesia/pn03/pn000232.htm\n",
      "http://www.blocosonline.com.br/literatura/poesia/pn03/pn000083.htm\n",
      "http://www.blocosonline.com.br/literatura/poesia/pn03/pn001346.htm\n",
      "http://www.blocosonline.com.br/literatura/poesia/pn03/pn000765.htm\n",
      "http://www.blocosonline.com.br/literatura/poesia/pn03/pn000000.htm\n",
      "http://www.blocosonline.com.br/literatura/poesia/pn03/pn00000w.htm\n",
      "http://www.blocosonline.com.br/literatura/poesia/pn/pn000691.htm\n",
      "http://www.blocosonline.com.br/literatura/poesia/p99/p990593.htm\n",
      "http://www.blocosonline.com.br/literatura/poesia/p99/p990594.htm\n",
      "http://www.blocosonline.com.br/literatura/poesia/pn/pn001243.htm\n",
      "http://www.blocosonline.com.br/literatura/poesia/p00/p000594.htm\n",
      "http://www.blocosonline.com.br/literatura/poesia/pn01/pn001469.htm\n",
      "http://www.blocosonline.com.br/literatura/poesia/p01/p011232.htm\n",
      "http://www.blocosonline.com.br/literatura/poesia/pn01/pn000856.htm\n",
      "http://www.blocosonline.com.br/literatura/poesia/pn01/pn000850.htm\n",
      "http://www.blocosonline.com.br/literatura/poesia/pn01/pn000323.htm\n",
      "http://www.blocosonline.com.br/literatura/poesia/pn01/pn001327.htm\n",
      "http://www.blocosonline.com.br/literatura/poesia/pn01/pn000834.htm\n",
      "http://www.blocosonline.com.br/literatura/poesia/pn01/pn000113.htm\n",
      "http://www.blocosonline.com.br/literatura/poesia/pn01/pn001341.htm\n",
      "http://www.blocosonline.com.br/literatura/poesia/pn01/pn001218.htm\n",
      "http://www.blocosonline.com.br/literatura/poesia/pn01/pn000039.htm\n",
      "http://www.blocosonline.com.br/literatura/poesia/pn02/pn001513.htm\n",
      "http://www.blocosonline.com.br/literatura/poesia/p02/p020636.htm\n",
      "http://www.blocosonline.com.br/literatura/poesia/p02/p020637.htm\n",
      "http://www.blocosonline.com.br/literatura/poesia/p02/p020638.htm\n",
      "http://www.blocosonline.com.br/literatura/poesia/pn02/pn000221.htm\n",
      "http://www.blocosonline.com.br/literatura/poesia/pn02/pn000086.htm\n",
      "http://www.blocosonline.com.br/literatura/poesia/pn02/pn000687.htm\n",
      "http://www.blocosonline.com.br/literatura/poesia/pn02/pn001127.htm\n",
      "http://www.blocosonline.com.br/literatura/poesia/pn02/pn001321.htm\n",
      "http://www.blocosonline.com.br/literatura/poesia/pn02/pn000938.htm\n",
      "http://www.blocosonline.com.br/literatura/poesia/pn02/pn001268.htm\n",
      "http://www.blocosonline.com.br/literatura/poesia/pn02/pn001018.htm\n",
      "http://www.blocosonline.com.br/literatura/poesia/pn02/pn000253.htm\n",
      "http://www.blocosonline.com.br/literatura/poesia/pn02/pn000203.htm\n",
      "http://www.blocosonline.com.br/literatura/poesia/pn02/pn000852.htm\n",
      "http://www.blocosonline.com.br/literatura/poesia/pn02/pn000000.htm\n",
      "http://www.blocosonline.com.br/literatura/poesia/pn02/pn00000x.htm\n",
      "http://www.blocosonline.com.br/literatura/poesia/pn02/pn001552.htm\n",
      "http://www.blocosonline.com.br/literatura/poesia/p02/p021132.htm\n",
      "http://www.blocosonline.com.br/literatura/poesia/p02/p021133.htm\n",
      "http://www.blocosonline.com.br/literatura/poesia/p02/p021134.htm\n",
      "http://www.blocosonline.com.br/literatura/poesia/p02/p021135.htm\n",
      "http://www.blocosonline.com.br/literatura/poesia/p02/p021136.htm\n",
      "http://www.blocosonline.com.br/literatura/poesia/p02/p021137.htm\n",
      "http://www.blocosonline.com.br/literatura/poesia/pn02/pn000226.htm\n",
      "http://www.blocosonline.com.br/literatura/poesia/pn02/pn000000.htm\n",
      "http://www.blocosonline.com.br/literatura/poesia/pn02/pn00000y.htm\n",
      "http://www.blocosonline.com.br/literatura/poesia/pn/pn000561.htm\n",
      "http://www.blocosonline.com.br/literatura/poesia/p99/p990232.htm\n",
      "http://www.blocosonline.com.br/literatura/poesia/p99/p990233.htm\n",
      "http://www.blocosonline.com.br/literatura/poesia/pn/pn000579.htm\n",
      "http://www.blocosonline.com.br/literatura/poesia/p99/p990272.htm\n",
      "http://www.blocosonline.com.br/literatura/poesia/p99/p990273.htm\n",
      "http://www.blocosonline.com.br/literatura/poesia/p99/p990274.htm\n",
      "http://www.blocosonline.com.br/literatura/poesia/p99/p990275.htm\n",
      "http://www.blocosonline.com.br/literatura/poesia/p99/p990395.htm\n",
      "http://www.blocosonline.com.br/literatura/poesia/p99/p990396.htm\n",
      "http://www.blocosonline.com.br/literatura/poesia/p99/p990522.htm\n",
      "http://www.blocosonline.com.br/literatura/poesia/pn/pn000437.htm\n",
      "http://www.blocosonline.com.br/literatura/poesia/p98/p981290.htm\n",
      "http://www.blocosonline.com.br/literatura/poesia/pn/pn000551.htm\n",
      "http://www.blocosonline.com.br/literatura/poesia/p99/p990210.htm\n",
      "http://www.blocosonline.com.br/literatura/poesia/pn/pn000015.htm\n",
      "http://www.blocosonline.com.br/literatura/poesia/p96/p961210.htm\n",
      "http://www.blocosonline.com.br/literatura/poesia/p97/p970422.htm\n",
      "http://www.blocosonline.com.br/literatura/poesia/pn/pn000753.htm\n",
      "http://www.blocosonline.com.br/literatura/poesia/p99/p990778.htm\n",
      "http://www.blocosonline.com.br/literatura/poesia/p99/p990779.htm\n",
      "http://www.blocosonline.com.br/literatura/poesia/pn/pn000640.htm\n",
      "http://www.blocosonline.com.br/literatura/poesia/p99/p990460.htm\n",
      "http://www.blocosonline.com.br/literatura/poesia/pn/pn000729.htm\n",
      "http://www.blocosonline.com.br/literatura/poesia/p99/p990708.htm\n",
      "http://www.blocosonline.com.br/literatura/poesia/p99/p990709.htm\n",
      "http://www.blocosonline.com.br/literatura/poesia/p99/p990710.htm\n",
      "http://www.blocosonline.com.br/literatura/poesia/p99/p990711.htm\n",
      "http://www.blocosonline.com.br/literatura/poesia/p02/p020238.htm\n",
      "http://www.blocosonline.com.br/literatura/poesia/p02/p020239.htm\n",
      "http://www.blocosonline.com.br/literatura/poesia/p02/p020240.htm\n",
      "http://www.blocosonline.com.br/literatura/poesia/p02/p020241.htm\n",
      "http://www.blocosonline.com.br/literatura/poesia/pn/pn000014.htm\n",
      "http://www.blocosonline.com.br/literatura/poesia/p96/p961209.htm\n",
      "http://www.blocosonline.com.br/literatura/poesia/pn/pn000979.htm\n",
      "http://www.blocosonline.com.br/literatura/poesia/p99/p991527.htm\n",
      "http://www.blocosonline.com.br/literatura/poesia/pn/pn000000.htm\n",
      "http://www.blocosonline.com.br/literatura/poesia/pn/pn00000a.htm\n",
      "http://www.blocosonline.com.br/literatura/poesia/pn/pn00000b.htm\n",
      "http://www.blocosonline.com.br/literatura/poesia/pn/pn00000c.htm\n",
      "http://www.blocosonline.com.br/literatura/poesia/pn/pn00000d.htm\n",
      "http://www.blocosonline.com.br/literatura/poesia/pn/pn00000e.htm\n",
      "http://www.blocosonline.com.br/literatura/poesia/pn/pn00000f.htm\n",
      "http://www.blocosonline.com.br/literatura/poesia/pn/pn00000g.htm\n",
      "http://www.blocosonline.com.br/literatura/poesia/pn/pn00000h.htm\n",
      "http://www.blocosonline.com.br/literatura/poesia/pn/pn00000i.htm\n",
      "http://www.blocosonline.com.br/literatura/poesia/pn/pn00000j.htm\n",
      "http://www.blocosonline.com.br/literatura/poesia/pn/pn00000k.htm\n",
      "http://www.blocosonline.com.br/literatura/poesia/pn/pn00000l.htm\n",
      "http://www.blocosonline.com.br/literatura/poesia/pn/pn00000m.htm\n",
      "http://www.blocosonline.com.br/literatura/poesia/pn/pn00000n.htm\n",
      "http://www.blocosonline.com.br/literatura/poesia/pn/pn00000o.htm\n",
      "http://www.blocosonline.com.br/literatura/poesia/pn/pn00000p.htm\n",
      "http://www.blocosonline.com.br/literatura/poesia/pn/pn00000r.htm\n",
      "http://www.blocosonline.com.br/literatura/poesia/pn/pn00000s.htm\n",
      "http://www.blocosonline.com.br/literatura/poesia/pn/pn00000t.htm\n",
      "http://www.blocosonline.com.br/literatura/poesia/pn/pn00000u.htm\n",
      "http://www.blocosonline.com.br/literatura/poesia/pn/pn00000v.htm\n",
      "http://www.blocosonline.com.br/literatura/poesia/pn/pn00000w.htm\n",
      "http://www.blocosonline.com.br/literatura/poesia/pn/pn00000x.htm\n",
      "http://www.blocosonline.com.br/literatura/poesia/pn/pn00000z.htm\n",
      "http://www.blocosonline.com.br/literatura/poesia/pn/pnnovos.htm\n",
      "http://www.blocosonline.com.br/literatura/poesia/../sermails.htm\n",
      "http://www.blocosonline.com.br/literatura/poesia/pndp/pndp000000.htm\n",
      "http://www.blocosonline.com.br/literatura/poesia/index.htm/index.htm\n",
      "http://www.blocosonline.com.br/literatura/poesia/pn/pn00000a.htm\n",
      "http://www.blocosonline.com.br/literatura/poesia/pn/pn00000z.htm\n",
      "http://www.blocosonline.com.br/literatura/poesia/../sermails.htm\n",
      "http://www.blocosonline.com.br/literatura/poesia/pn/pn000472.htm\n",
      "http://www.blocosonline.com.br/literatura/poesia/pn/pn000243.htm\n",
      "http://www.blocosonline.com.br/literatura/poesia/pn/pn000499.htm\n",
      "http://www.blocosonline.com.br/literatura/poesia/pn/pn001125.htm\n",
      "http://www.blocosonline.com.br/literatura/poesia/pn/pn000909.htm\n",
      "http://www.blocosonline.com.br/literatura/poesia/pn/pn000965.htm\n",
      "http://www.blocosonline.com.br/literatura/poesia/pn/pn000025.htm\n",
      "http://www.blocosonline.com.br/literatura/poesia/pn/pn000438.htm\n",
      "http://www.blocosonline.com.br/literatura/poesia/pn/pn001250.htm\n",
      "http://www.blocosonline.com.br/literatura/poesia/pn/pn000960.htm\n",
      "http://www.blocosonline.com.br/literatura/poesia/pn/pn000308.htm\n",
      "http://www.blocosonline.com.br/literatura/poesia/pn/pn000294.htm\n",
      "http://www.blocosonline.com.br/literatura/poesia/pn/pn000891.htm\n",
      "http://www.blocosonline.com.br/literatura/poesia/poeil/poeil00000z.htm\n",
      "http://www.blocosonline.com.br/literatura/poesia/pn/pn000000.htm\n",
      "http://www.blocosonline.com.br/literatura/poesia/pn/pn000472.htm\n",
      "http://www.blocosonline.com.br/literatura/poesia/p98/p981340.htm\n",
      "http://www.blocosonline.com.br/literatura/poesia/p98/p981341.htm\n",
      "http://www.blocosonline.com.br/literatura/poesia/p00/p000132.htm\n",
      "http://www.blocosonline.com.br/literatura/poesia/pn/pn000243.htm\n",
      "http://www.blocosonline.com.br/literatura/poesia/p98/p980892.htm\n",
      "http://www.blocosonline.com.br/literatura/poesia/p98/p980893.htm\n",
      "http://www.blocosonline.com.br/literatura/poesia/p98/p980894.htm\n",
      "http://www.blocosonline.com.br/literatura/poesia/p98/p980895.htm\n",
      "http://www.blocosonline.com.br/literatura/poesia/p98/p980921.htm\n",
      "http://www.blocosonline.com.br/literatura/poesia/p98/p980922.htm\n",
      "http://www.blocosonline.com.br/literatura/poesia/p98/p980923.htm\n",
      "http://www.blocosonline.com.br/literatura/poesia/p98/p980924.htm\n",
      "http://www.blocosonline.com.br/literatura/poesia/pn/pn000499.htm\n",
      "http://www.blocosonline.com.br/literatura/poesia/p98/p981364.htm\n",
      "http://www.blocosonline.com.br/literatura/poesia/pn/pn001125.htm\n",
      "http://www.blocosonline.com.br/literatura/poesia/p00/p000192.htm\n",
      "http://www.blocosonline.com.br/literatura/poesia/pn/pn000909.htm\n",
      "http://www.blocosonline.com.br/literatura/poesia/p99/p991421.htm\n",
      "http://www.blocosonline.com.br/literatura/poesia/pn/pn000965.htm\n",
      "http://www.blocosonline.com.br/literatura/poesia/p99/p991512.htm\n",
      "http://www.blocosonline.com.br/literatura/poesia/pn/pn000025.htm\n",
      "http://www.blocosonline.com.br/literatura/poesia/p96/p961221.htm\n",
      "http://www.blocosonline.com.br/literatura/poesia/p97/p970423.htm\n",
      "http://www.blocosonline.com.br/literatura/poesia/p00/p000865.htm\n",
      "http://www.blocosonline.com.br/literatura/poesia/p00/p000866.htm\n",
      "http://www.blocosonline.com.br/literatura/poesia/p00/p000867.htm\n",
      "http://www.blocosonline.com.br/literatura/poesia/pn/pn000438.htm\n",
      "http://www.blocosonline.com.br/literatura/poesia/p98/p981291.htm\n",
      "http://www.blocosonline.com.br/literatura/poesia/pn/pn001250.htm\n",
      "http://www.blocosonline.com.br/literatura/poesia/p00/p000628.htm\n",
      "http://www.blocosonline.com.br/literatura/poesia/p00/p000629.htm\n",
      "http://www.blocosonline.com.br/literatura/poesia/pn/pn000960.htm\n",
      "http://www.blocosonline.com.br/literatura/poesia/p99/p991506.htm\n",
      "http://www.blocosonline.com.br/literatura/poesia/pn/pn000308.htm\n",
      "http://www.blocosonline.com.br/literatura/poesia/p98/p981034.htm\n",
      "http://www.blocosonline.com.br/literatura/poesia/pn/pn000294.htm\n",
      "http://www.blocosonline.com.br/literatura/poesia/p98/p980992.htm\n",
      "http://www.blocosonline.com.br/literatura/poesia/pn/pn000891.htm\n",
      "http://www.blocosonline.com.br/literatura/poesia/p99/p991379.htm\n",
      "http://www.blocosonline.com.br/literatura/poesia/p99/p991380.htm\n",
      "http://www.blocosonline.com.br/literatura/poesia/p99/p991381.htm\n",
      "http://www.blocosonline.com.br/literatura/poesia/p99/p991382.htm\n",
      "http://www.blocosonline.com.br/literatura/poesia/poeil/poeil00000z.htm\n",
      "http://www.blocosonline.com.br/literatura/poesia/poeil/poeil000031.htm\n",
      "http://www.blocosonline.com.br/literatura/poesia/poeil/poeil000000.htm\n",
      "http://www.blocosonline.com.br/literatura/poesia/poeil/pn000000.htm\n",
      "0:13:09.108461\n"
     ]
    }
   ],
   "source": [
    "from html import unescape\n",
    "import requests\n",
    "import re\n",
    "from datetime import datetime\n",
    "from pathlib import Path\n",
    "\n",
    "Path('poems').mkdir(parents=True, exist_ok=True)\n",
    "\n",
    "now = datetime.now()\n",
    "authors = {}\n",
    "authors_list = []\n",
    "\n",
    "def get_poem(poem_ref, url_base):\n",
    "    if poem_ref[0] == '..':\n",
    "        url_base_temp = url_base[:-1] + [poem_ref[1]]\n",
    "        poem_ref = [poem_ref[-1]]\n",
    "    else:\n",
    "        url_base_temp = url_base\n",
    "    print('/'.join(url_base_temp + poem_ref))\n",
    "    poem_request = requests.get('/'.join(url_base_temp + poem_ref), headers={\"User-Agent\": \"XY\"})\n",
    "    return tokenize(poem_request.text) if poem_request.status_code == 200 else None\n",
    "\n",
    "for letter in 'ghijklmnopqrstuvwxyz':\n",
    "    url_base = 'http://www.blocosonline.com.br/literatura/poesia/pn'.split('/')\n",
    "    letter_path = f'pn00000{letter}.htm'\n",
    "    authors_request = requests.get(\"/\".join(url_base + [letter_path]), headers={\"User-Agent\": \"XY\"})\n",
    "    for author in [author for author in re.findall(r'(?:href=\\\"|HREF=\\\")(.*?)(?:\\\")', authors_request.text)[:-1] if author.endswith('.htm') and author != \"../../../servic/sermails.htm\"]:\n",
    "        author = author.split('/')\n",
    "        if author[0] == '..':\n",
    "            url_base = url_base[:-1] + [author[1]]\n",
    "            author = [author[-1]]\n",
    "        print('/'.join(url_base + author))\n",
    "        poems_request = requests.get('/'.join(url_base + author), headers={\"User-Agent\": \"XY\"})\n",
    "        author_name = unescape(re.findall(r'(?:<title>|<TITLE>)(.*?)(?:</title>|</TITLE>)', poems_request.text)[0])\n",
    "        \n",
    "        Path(f'poems/{author_name}').mkdir(parents=True, exist_ok=True)\n",
    "        for i, poem in enumerate(re.findall(r'(?:href=\\\"|HREF=\\\")(.*?)(?:\\\")', poems_request.text)):\n",
    "            poem = poem.split('/')\n",
    "            if poem[-1].endswith('htm') and poem[-1] != letter_path:\n",
    "                with open(f'poems/{author_name}/{poem[-1]}.txt', 'w') as file_stream:\n",
    "                    dataset = get_poem(poem, url_base)\n",
    "                    if dataset:\n",
    "                        file_stream.write(\" \".join(dataset))\n",
    "print(datetime.now() - now)"
   ]
  },
  {
   "source": [
    "Now, with all the extracted poems in their respective author's folders, we can load this dataset whenever necessary to train this model.\n",
    "\n",
    "To assess how well the model can verify if an author wrote a poem, let's train the bayes model with 4 authors and check the probabilities of a poem from each of them."
   ],
   "cell_type": "markdown",
   "metadata": {}
  },
  {
   "cell_type": "code",
   "execution_count": 248,
   "metadata": {},
   "outputs": [],
   "source": [
    "from os import listdir\n",
    "\n",
    "def get_training_data(limit=None):\n",
    "    author_folders = [item for item in listdir('poems') if not item.startswith('.')]\n",
    "    dataset = []\n",
    "    output = []\n",
    "        \n",
    "    for i in range(limit) if limit else range(len(author_folders)):\n",
    "        for poem in [item for item in listdir(f'poems/{author_folders[i]}') if not item.startswith('.')]:\n",
    "            with open(f'poems/{author_folders[i]}/{poem}', 'r') as file_reader:\n",
    "                dataset.append(extract_words(file_reader.read()))\n",
    "                output.append(author_folders[i])\n",
    "    return (dataset, output)"
   ]
  },
  {
   "cell_type": "code",
   "execution_count": 224,
   "metadata": {},
   "outputs": [],
   "source": [
    "def train_bayes(dataset, output):\n",
    "    now = datetime.now()\n",
    "    bayes = Bayes()\n",
    "    bayes.train(dataset, output)\n",
    "    print(f\"took: {datetime.now() - now}\")\n",
    "    return bayes"
   ]
  },
  {
   "cell_type": "code",
   "execution_count": 225,
   "metadata": {},
   "outputs": [
    {
     "output_type": "stream",
     "name": "stdout",
     "text": [
      "took: 0:00:00.085408\nWe've got 100.0% right\n"
     ]
    }
   ],
   "source": [
    "def get_results(bayes_model, dataset, output):\n",
    "    results = []\n",
    "    for poem, author in zip(dataset, output):\n",
    "        result = bayes_model.predict(poem) == author\n",
    "        results.append(result)\n",
    "    print(f\"We've got {(len([result for result in results if result])/len(results))*100}% right\")\n",
    "dataset, output = get_training_data(limit=4)\n",
    "get_results(train_bayes(dataset, output), dataset, output)"
   ]
  },
  {
   "source": [
    "As we can see, testing this model for 4 authors, it has got 100% of the predictions right. To assess if this is going to hold true for other authors, I am going to use the same data and functions for other numbers of authors to watch for the performance of the model"
   ],
   "cell_type": "markdown",
   "metadata": {}
  },
  {
   "cell_type": "code",
   "execution_count": 226,
   "metadata": {},
   "outputs": [
    {
     "output_type": "stream",
     "name": "stdout",
     "text": [
      "For 10 authors;\n",
      "took: 0:00:01.430694\n",
      "We've got 91.66666666666666% right\n",
      "For 11 authors;\n",
      "took: 0:00:01.710053\n",
      "We've got 92.3076923076923% right\n",
      "For 12 authors;\n",
      "took: 0:00:02.237094\n",
      "We've got 93.05555555555556% right\n",
      "For 13 authors;\n",
      "took: 0:00:02.911196\n",
      "We've got 93.5064935064935% right\n",
      "For 14 authors;\n",
      "took: 0:00:03.201320\n",
      "We've got 93.58974358974359% right\n",
      "For 15 authors;\n",
      "took: 0:00:04.535990\n",
      "We've got 92.94117647058823% right\n",
      "For 16 authors;\n",
      "took: 0:00:05.034465\n",
      "We've got 93.10344827586206% right\n",
      "For 17 authors;\n",
      "took: 0:00:05.776650\n",
      "We've got 93.61702127659575% right\n",
      "For 18 authors;\n",
      "took: 0:00:06.257362\n",
      "We've got 93.81443298969072% right\n",
      "For 19 authors;\n",
      "took: 0:00:07.053881\n",
      "We've got 94.0% right\n",
      "For 20 authors;\n",
      "took: 0:00:07.839202\n",
      "We've got 94.39252336448598% right\n",
      "For 21 authors;\n",
      "took: 0:00:08.462771\n",
      "We've got 94.4954128440367% right\n",
      "For 22 authors;\n",
      "took: 0:00:08.719867\n",
      "We've got 93.63636363636364% right\n",
      "For 23 authors;\n",
      "took: 0:00:09.561570\n",
      "We've got 91.96428571428571% right\n",
      "For 24 authors;\n",
      "took: 0:00:10.423203\n",
      "We've got 92.10526315789474% right\n",
      "For 25 authors;\n",
      "took: 0:00:11.226973\n",
      "We've got 92.24137931034483% right\n",
      "For 26 authors;\n",
      "took: 0:00:12.725270\n",
      "We've got 92.43697478991596% right\n",
      "For 27 authors;\n",
      "took: 0:00:13.669006\n",
      "We've got 92.5% right\n",
      "For 28 authors;\n",
      "took: 0:00:14.089241\n",
      "We've got 92.56198347107438% right\n",
      "For 29 authors;\n",
      "took: 0:00:15.349640\n",
      "We've got 92.80000000000001% right\n"
     ]
    }
   ],
   "source": [
    "for i in range(10, 30):\n",
    "    print(f\"For {i} authors;\")\n",
    "    dataset, output = get_training_data(limit=i)\n",
    "    get_results(train_bayes(dataset, output), dataset, output)"
   ]
  },
  {
   "source": [
    "This is already a quite impressive model, it should be good enough to identify most of the poems' authors.\n",
    "Now, it wouldn't be fun if we couldn't test it with one of my own poems to see which author I identify myself with:"
   ],
   "cell_type": "markdown",
   "metadata": {}
  },
  {
   "cell_type": "code",
   "execution_count": 228,
   "metadata": {},
   "outputs": [
    {
     "output_type": "stream",
     "name": "stdout",
     "text": [
      "took: 0:00:27.157213\n"
     ]
    },
    {
     "output_type": "execute_result",
     "data": {
      "text/plain": [
       "'MPB - Paolo Lim'"
      ]
     },
     "metadata": {},
     "execution_count": 228
    }
   ],
   "source": [
    "dataset, output = get_training_data(limit=40)\n",
    "bayes = train_bayes(dataset, output)"
   ]
  },
  {
   "cell_type": "code",
   "execution_count": 230,
   "metadata": {},
   "outputs": [
    {
     "output_type": "stream",
     "name": "stdout",
     "text": [
      "['Likelyhood MPB - R. B. Sotero: -80.59115874923836', 'Likelyhood MPB - Yara Daher: -83.51623866682769', 'Likelyhood MPB - Iauaretê: -89.10895543337449', 'Likelyhood MPB - Vera Vilela: -77.45125210969985', 'Likelyhood MPB - Zila Mamede: -85.65699952501105', 'Likelyhood Iaiá Castro: -78.77421122406761', 'Likelyhood MPB - Fábio Mor: -86.9733228047176', 'Likelyhood MPB - Dorcila Garcia: -85.03076297113476', 'Likelyhood MPB - Enzo Lenine: -81.60231403514001', 'Likelyhood MPB - Rui Barbosa: -83.3884780008886', 'Likelyhood MBP - Urayoan Noel: -86.67985991417927', 'Likelyhood MPB - Laura Esteves: -87.94106665866437', 'Likelyhood MBP - Cacilda Barboza: -86.7285967755151', 'Likelyhood MBP - Fabrício Carpinejar: -85.06286322225857', 'Likelyhood MPB - Carlos de Hollanda: -83.91715799385209', 'Likelyhood MPB - Neide Ferreira Mendes da Silva: -76.801924918645', 'Likelyhood MPB - Narcisa Amália: -82.51586806753333', 'Likelyhood MPB - Yacy Maia Saraiva: -87.22193862361732', 'Likelyhood MPB - Lucas Tenório: -74.7131751866087', 'Likelyhood MPB - Helena Cristina Tavares Garrido: -87.1407146258763', 'Likelyhood MPB - Bernardo Trancoso: -81.26889969796362', 'Likelyhood MPB - Roberto Marinho de Azevedo: -81.78664635015271', 'Likelyhood MPB - Rogel Samuel: -78.03873036452566', 'Likelyhood MPB - Alexandre Tambelli: -76.8476666227915', 'Likelyhood MBP - João Andrade: -84.2341084923733', 'Likelyhood MPB - Celina Ferreira: -87.81463015461887', 'Likelyhood MPB - Gabriela Marcondes: -77.80829773935167', 'Likelyhood Natália Martinello Moreira - Poesias infantis -  Blocos: -79.8196868202526', 'Likelyhood MPB - Zeferino Brasil: -84.40358493101127', 'Likelyhood MBP - Ildefonso Sambaíba: -83.68662960911924', 'Likelyhood MPB - José Mariano de Oliveira: -89.29848961213376', 'Likelyhood MPB - Yeda Maria Borges: -86.55457609401874', 'Likelyhood MBP - Angelo Papa Neto: -80.62417098043609', 'Likelyhood MPB - Madi Rodrigues: -73.66038002662779', 'Likelyhood MPB - Lambretas: -88.37423122405185', 'Likelyhood MPB - Paolo Lim: -71.63366080396682', 'Likelyhood MPB - Salgado Maranhão: -81.42911800351914', 'Likelyhood MPB - Fabiano Antunes de Aguiar: -83.84412815772208', 'Likelyhood MPB - Laís Corrêa de Araujo: -84.14790128387556', 'Likelyhood MPB - Nirton Venâncio: -90.50406978694875']\n"
     ]
    },
    {
     "output_type": "execute_result",
     "data": {
      "text/plain": [
       "'MPB - Paolo Lim'"
      ]
     },
     "metadata": {},
     "execution_count": 230
    }
   ],
   "source": [
    "bayes.predict(extract_words(\"De minha volição, palavras abstém; De meu coração, pensamentos advém; Consciência e espírito, vivência e experiência; Efêmera ilusão, sentimentos contém\"), print_probabilities=True)"
   ]
  },
  {
   "source": [
    "Looking at the results I found that Paolo Lim is the poet that this poem of mine would identify as. Out of curiosity, and reading his poems, I found that the `;` symbol was not removed from the datasets. That is probably the reason my likelyhood got pulled to his, as he uses the semi-colon a lot in his poems.\n",
    "Let's improve the treatment of the dataset and check again how it influences the accuracy of the model;"
   ],
   "cell_type": "markdown",
   "metadata": {}
  },
  {
   "cell_type": "code",
   "execution_count": 231,
   "metadata": {},
   "outputs": [
    {
     "output_type": "stream",
     "name": "stdout",
     "text": [
      "For 10 authors;\n",
      "took: 0:00:01.370974\n",
      "We've got 91.66666666666666% right\n",
      "For 11 authors;\n",
      "took: 0:00:01.692889\n",
      "We've got 92.3076923076923% right\n",
      "For 12 authors;\n",
      "took: 0:00:02.170121\n",
      "We've got 93.05555555555556% right\n",
      "For 13 authors;\n",
      "took: 0:00:02.948848\n",
      "We've got 93.5064935064935% right\n",
      "For 14 authors;\n",
      "took: 0:00:03.154648\n",
      "We've got 93.58974358974359% right\n"
     ]
    }
   ],
   "source": [
    "def extract_words(text):\n",
    "    text = re.sub(r'[!\\.,\\-?\\\\/0-9:|();]', ' ', text)\n",
    "    text = re.sub(r'\\x97', '', text)\n",
    "    text = re.sub(r'\\x93', '', text)\n",
    "    text = re.sub(r'\\x94', '', text)\n",
    "    text = re.sub(r'\\xa0', '', text)\n",
    "    text = re.sub(r'<br>', '', text)\n",
    "    text = re.sub(r'[dD]o [Ll]ivro.*', '', text)\n",
    "    text = re.sub(r' +', ' ', text)\n",
    "    return text.strip().lower().split(' ')\n",
    "\n",
    "for i in range(10, 15):\n",
    "    print(f\"For {i} authors;\")\n",
    "    dataset, output = get_training_data(limit=i)\n",
    "    get_results(train_bayes(dataset, output), dataset, output)"
   ]
  },
  {
   "source": [
    "It doesn't look like it influences the model at all, quite interesting! Let's try and see if it changes the likelyhood of my poem"
   ],
   "cell_type": "markdown",
   "metadata": {}
  },
  {
   "cell_type": "code",
   "execution_count": 232,
   "metadata": {},
   "outputs": [
    {
     "output_type": "stream",
     "name": "stdout",
     "text": [
      "took: 0:00:27.140702\n['Likelyhood MPB - R. B. Sotero: -80.51962272923525', 'Likelyhood MPB - Yara Daher: -83.44055697109172', 'Likelyhood MPB - Iauaretê: -89.0322177999193', 'Likelyhood MPB - Vera Vilela: -77.38248535532553', 'Likelyhood MPB - Zila Mamede: -85.58117737962995', 'Likelyhood Iaiá Castro: -78.70404415592154', 'Likelyhood MPB - Fábio Mor: -86.89701513477998', 'Likelyhood MPB - Dorcila Garcia: -84.9573540744606', 'Likelyhood MPB - Enzo Lenine: -81.53308117527256', 'Likelyhood MPB - Rui Barbosa: -83.31660038902088', 'Likelyhood MBP - Urayoan Noel: -86.60379578130241', 'Likelyhood MPB - Laura Esteves: -87.86584279896485', 'Likelyhood MBP - Cacilda Barboza: -86.65364889647572', 'Likelyhood MBP - Fabrício Carpinejar: -84.98994097661452', 'Likelyhood MPB - Carlos de Hollanda: -83.84378676236065', 'Likelyhood MPB - Neide Ferreira Mendes da Silva: -76.73342170323967', 'Likelyhood MPB - Narcisa Amália: -82.44253446259324', 'Likelyhood MPB - Yacy Maia Saraiva: -87.14653627195023', 'Likelyhood MPB - Lucas Tenório: -74.6534673155852', 'Likelyhood MPB - Helena Cristina Tavares Garrido: -87.06475150858755', 'Likelyhood MPB - Bernardo Trancoso: -81.19543423095128', 'Likelyhood MPB - Roberto Marinho de Azevedo: -81.71390956426895', 'Likelyhood MPB - Rogel Samuel: -77.9710858751007', 'Likelyhood MPB - Alexandre Tambelli: -76.77804613722337', 'Likelyhood MBP - João Andrade: -84.16192246855368', 'Likelyhood MPB - Celina Ferreira: -87.73934689156579', 'Likelyhood MPB - Gabriela Marcondes: -77.74073315178711', 'Likelyhood Natália Martinello Moreira - Poesias infantis -  Blocos: -79.75052093336345', 'Likelyhood MPB - Zeferino Brasil: -84.32867631255776', 'Likelyhood MBP - Ildefonso Sambaíba: -83.61455273833505', 'Likelyhood MPB - José Mariano de Oliveira: -89.2230673757245', 'Likelyhood MPB - Yeda Maria Borges: -86.48015478490555', 'Likelyhood MBP - Angelo Papa Neto: -80.55417563902093', 'Likelyhood MPB - Madi Rodrigues: -73.59537983749112', 'Likelyhood MPB - Lambretas: -88.29802521715816', 'Likelyhood MPB - Paolo Lim: -71.29211798360448', 'Likelyhood MPB - Salgado Maranhão: -81.35479339642747', 'Likelyhood MPB - Fabiano Antunes de Aguiar: -83.7729482179603', 'Likelyhood MPB - Laís Corrêa de Araujo: -84.07285507308589', 'Likelyhood MPB - Nirton Venâncio: -90.42739387326975']\n"
     ]
    },
    {
     "output_type": "execute_result",
     "data": {
      "text/plain": [
       "'MPB - Paolo Lim'"
      ]
     },
     "metadata": {},
     "execution_count": 232
    }
   ],
   "source": [
    "dataset, output = get_training_data(limit=40)\n",
    "bayes = train_bayes(dataset, output)\n",
    "bayes.predict(extract_words(\"De minha volição, palavras abstém; De meu coração, pensamentos advém; Consciência e espírito, vivência e experiência; Efêmera ilusão, sentimentos contém\"), print_probabilities=True)"
   ]
  },
  {
   "source": [
    "Indeed, everything looks the same. It's definitely quite an accurate model to predict the author as the class.\n",
    "\n",
    "Next, on the purpose of trying to improve the recognition, I will remove the stopwords from the datasets as well as the ponctuation using the python `nltk` library. "
   ],
   "cell_type": "markdown",
   "metadata": {}
  },
  {
   "cell_type": "code",
   "execution_count": 237,
   "metadata": {},
   "outputs": [
    {
     "output_type": "stream",
     "name": "stderr",
     "text": [
      "[nltk_data] Downloading package stopwords to\n[nltk_data]     /Users/gcarraro/nltk_data...\n[nltk_data]   Package stopwords is already up-to-date!\n"
     ]
    },
    {
     "output_type": "execute_result",
     "data": {
      "text/plain": [
       "['gosto', 'batata']"
      ]
     },
     "metadata": {},
     "execution_count": 237
    }
   ],
   "source": [
    "import nltk\n",
    "nltk.download('stopwords')\n",
    "def extract_words(text):\n",
    "    text = re.sub(r'[!\\.,\\-?\\\\/0-9:|();]', ' ', text)\n",
    "    text = re.sub(r'\\x97', '', text)\n",
    "    text = re.sub(r'\\x93', '', text)\n",
    "    text = re.sub(r'\\x94', '', text)\n",
    "    text = re.sub(r'\\xa0', '', text)\n",
    "    text = re.sub(r'<br>', '', text)\n",
    "    text = re.sub(r'[dD]o [Ll]ivro.*', '', text)\n",
    "    text = re.sub(r' +', ' ', text)\n",
    "    text = text.strip().lower().split(' ')\n",
    "    stopwords = nltk.corpus.stopwords.words('portuguese')\n",
    "    return [word for word in text if word not in stopwords]\n",
    "\n",
    "extract_words('Eu gosto de batata')"
   ]
  },
  {
   "cell_type": "code",
   "execution_count": 240,
   "metadata": {},
   "outputs": [
    {
     "output_type": "stream",
     "name": "stdout",
     "text": [
      "For 10 authors;\n",
      "took: 0:00:01.302891\n",
      "We've got 91.66666666666666% right\n",
      "For 11 authors;\n",
      "took: 0:00:01.547199\n",
      "We've got 92.3076923076923% right\n",
      "For 12 authors;\n",
      "took: 0:00:01.998293\n",
      "We've got 93.05555555555556% right\n",
      "For 13 authors;\n",
      "took: 0:00:02.703310\n",
      "We've got 93.5064935064935% right\n",
      "For 14 authors;\n",
      "took: 0:00:02.996653\n",
      "We've got 93.58974358974359% right\n"
     ]
    }
   ],
   "source": [
    "for i in range(10, 15):\n",
    "    print(f\"For {i} authors;\")\n",
    "    dataset, output = get_training_data(limit=i)\n",
    "    get_results(train_bayes(dataset, output), dataset, output)"
   ]
  },
  {
   "source": [
    "And looking at the results, it's clear to see the stopwords didn't influence at all the given dataset. Let's see if new data is introduced, if that would change."
   ],
   "cell_type": "markdown",
   "metadata": {}
  },
  {
   "cell_type": "code",
   "execution_count": 241,
   "metadata": {},
   "outputs": [
    {
     "output_type": "stream",
     "name": "stdout",
     "text": [
      "took: 0:00:24.787848\n['Likelyhood MPB - R. B. Sotero: -41.12617662050834', 'Likelyhood MPB - Yara Daher: -40.26970517520092', 'Likelyhood MPB - Iauaretê: -40.91559039697373', 'Likelyhood MPB - Vera Vilela: -40.57689577226427', 'Likelyhood MPB - Zila Mamede: -40.275236149216255', 'Likelyhood Iaiá Castro: -40.47436852061002', 'Likelyhood MPB - Fábio Mor: -40.94205654039516', 'Likelyhood MPB - Dorcila Garcia: -40.365624806316035', 'Likelyhood MPB - Enzo Lenine: -39.83406199035904', 'Likelyhood MPB - Rui Barbosa: -41.10739473633596', 'Likelyhood MBP - Urayoan Noel: -40.94205654039516', 'Likelyhood MPB - Laura Esteves: -40.98631685707168', 'Likelyhood MBP - Cacilda Barboza: -40.9739081922168', 'Likelyhood MBP - Fabrício Carpinejar: -41.05877198687598', 'Likelyhood MPB - Carlos de Hollanda: -41.05334015581488', 'Likelyhood MPB - Neide Ferreira Mendes da Silva: -40.50349995894903', 'Likelyhood MPB - Narcisa Amália: -41.05605680896511', 'Likelyhood MPB - Yacy Maia Saraiva: -40.96976511781871', 'Likelyhood MPB - Lucas Tenório: -40.318371768884504', 'Likelyhood MPB - Helena Cristina Tavares Garrido: -40.25307544811956', 'Likelyhood MPB - Bernardo Trancoso: -40.35475523681794', 'Likelyhood MPB - Roberto Marinho de Azevedo: -39.4588256027159', 'Likelyhood MPB - Rogel Samuel: -41.31408468835464', 'Likelyhood MPB - Alexandre Tambelli: -39.84325196275057', 'Likelyhood MBP - João Andrade: -41.084492904568066', 'Likelyhood MPB - Celina Ferreira: -40.97666833581435', 'Likelyhood MPB - Gabriela Marcondes: -40.61060959294262', 'Likelyhood Natália Martinello Moreira - Poesias infantis -  Blocos: -39.814312129262476', 'Likelyhood MPB - Zeferino Brasil: -41.00281398504282', 'Likelyhood MBP - Ildefonso Sambaíba: -40.42230557524772', 'Likelyhood MPB - José Mariano de Oliveira: -40.96423567296433', 'Likelyhood MPB - Yeda Maria Borges: -40.31515377348346', 'Likelyhood MBP - Angelo Papa Neto: -41.246568731303185', 'Likelyhood MPB - Madi Rodrigues: -38.63817240481307', 'Likelyhood MPB - Lambretas: -40.93927721847812', 'Likelyhood MPB - Paolo Lim: -37.78594420302574', 'Likelyhood MPB - Salgado Maranhão: -39.21242682267119', 'Likelyhood MPB - Fabiano Antunes de Aguiar: -41.1408844797566', 'Likelyhood MPB - Laís Corrêa de Araujo: -40.984939636294484', 'Likelyhood MPB - Nirton Venâncio: -40.91838291310329']\n"
     ]
    },
    {
     "output_type": "execute_result",
     "data": {
      "text/plain": [
       "'MPB - Paolo Lim'"
      ]
     },
     "metadata": {},
     "execution_count": 241
    }
   ],
   "source": [
    "dataset, output = get_training_data(limit=40)\n",
    "bayes = train_bayes(dataset, output)\n",
    "bayes.predict(extract_words(\"De minha volição, palavras abstém; De meu coração, pensamentos advém; Consciência e espírito, vivência e experiência; Efêmera ilusão, sentimentos contém\"), print_probabilities=True)"
   ]
  },
  {
   "source": [
    "One thing to note is: the likelyhood, although yielding smaller numbers, seems to be proportional with the previous results. But the great thing we can take back from this analysis is: removing stop words reduces the time in training the model considerably! We could see an improvement of approximately 3 seconds. This is a great improvement when trying to train for bigger datasets. It still too long to compute all authors, but it would take less time."
   ],
   "cell_type": "markdown",
   "metadata": {}
  }
 ]
}